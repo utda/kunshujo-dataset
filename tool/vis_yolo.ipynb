{
 "cells": [
  {
   "cell_type": "code",
   "execution_count": 1,
   "metadata": {},
   "outputs": [],
   "source": [
    "from PIL import Image, ImageDraw\n",
    "\n",
    "def show_bbox(image_path, label_path, output_dir):\n",
    "    \n",
    "    # 画像を開き、描画ようにImageDrawを作る\n",
    "    image = Image.open(image_path)\n",
    "    draw = ImageDraw.Draw(image)\n",
    "\n",
    "    with open(label_path, 'r') as f:\n",
    "        for line in f.readlines():\n",
    "            # 一行ごとに処理する\n",
    "            label, x, y, w, h = line.split(' ')\n",
    "\n",
    "            # 文字から数値に変換\n",
    "            x = float(x)\n",
    "            y = float(y)\n",
    "            w = float(w)\n",
    "            h = float(h)\n",
    "\n",
    "            # 中央位置と幅と高さ => 左上、右下位置\n",
    "            W, H = image.size\n",
    "            x1 = (x - w/2) * W\n",
    "            y1 = (y - h/2) * H\n",
    "            x2 = (x + w/2) * W\n",
    "            y2 = (y + h/2) * H\n",
    "\n",
    "            # BoundingBoxを赤線で囲む\n",
    "            draw.rectangle((x1, y1, x2, y2), outline=(255, 0, 0), width=5)\n",
    "\n",
    "    # image.show()\n",
    "    output_path = output_dir + '/' + image_path.split('/')[-1]\n",
    "    os.makedirs(os.path.dirname(output_path), exist_ok=True)\n",
    "    image.save(output_path)"
   ]
  },
  {
   "cell_type": "code",
   "execution_count": 2,
   "metadata": {},
   "outputs": [
    {
     "name": "stderr",
     "output_type": "stream",
     "text": [
      "100%|██████████| 2260/2260 [00:35<00:00, 63.83it/s]\n"
     ]
    }
   ],
   "source": [
    "OUTPUT_DIR = \"tmp_yolo\"\n",
    "LABEL_DIR = \"/Users/nakamura/git/kunshujo/omekac_kunshujo/docs/files/labels\"\n",
    "IMAGE_DIR = \"/Users/nakamura/git/kunshujo/omekac_kunshujo/docs/files/yolov5\"\n",
    "\n",
    "import glob\n",
    "from tqdm import tqdm\n",
    "import os\n",
    "\n",
    "files_img = glob.glob(f\"{IMAGE_DIR}/*.jpg\")\n",
    "for path_img in tqdm(files_img):\n",
    "    basename_img = os.path.basename(path_img)\n",
    "    path_label = os.path.join(LABEL_DIR, basename_img.replace(\".jpg\", \".txt\"))\n",
    "    show_bbox(path_img, path_label, OUTPUT_DIR)"
   ]
  }
 ],
 "metadata": {
  "kernelspec": {
   "display_name": "Python 3.9.12 ('base')",
   "language": "python",
   "name": "python3"
  },
  "language_info": {
   "codemirror_mode": {
    "name": "ipython",
    "version": 3
   },
   "file_extension": ".py",
   "mimetype": "text/x-python",
   "name": "python",
   "nbconvert_exporter": "python",
   "pygments_lexer": "ipython3",
   "version": "3.9.12"
  },
  "orig_nbformat": 4,
  "vscode": {
   "interpreter": {
    "hash": "b835ebd1de181952a98845715e8eba418a34411a053b7739bf494afe420820a7"
   }
  }
 },
 "nbformat": 4,
 "nbformat_minor": 2
}
